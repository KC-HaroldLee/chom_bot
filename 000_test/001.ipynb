{
 "cells": [
  {
   "cell_type": "code",
   "execution_count": 27,
   "metadata": {},
   "outputs": [],
   "source": [
    "import pandas as pd\n",
    "import uuid"
   ]
  },
  {
   "cell_type": "markdown",
   "metadata": {},
   "source": []
  },
  {
   "cell_type": "code",
   "execution_count": 28,
   "metadata": {},
   "outputs": [
    {
     "data": {
      "text/plain": [
       "'5fcaabc3e7fe'"
      ]
     },
     "execution_count": 28,
     "metadata": {},
     "output_type": "execute_result"
    }
   ],
   "source": [
    "url = \"https://www.youtube.com/watch?v=PxjXsVFworw\"\n",
    "\n",
    "song_list = pd.read_csv('../music/music_list.csv')\n",
    "\n",
    "yt_url = url.replace(' ', '')\n",
    "hash_v = str(uuid.uuid4())[-12:]\n",
    "hash_v"
   ]
  },
  {
   "cell_type": "code",
   "execution_count": 29,
   "metadata": {},
   "outputs": [
    {
     "data": {
      "text/html": [
       "<div>\n",
       "<style scoped>\n",
       "    .dataframe tbody tr th:only-of-type {\n",
       "        vertical-align: middle;\n",
       "    }\n",
       "\n",
       "    .dataframe tbody tr th {\n",
       "        vertical-align: top;\n",
       "    }\n",
       "\n",
       "    .dataframe thead th {\n",
       "        text-align: right;\n",
       "    }\n",
       "</style>\n",
       "<table border=\"1\" class=\"dataframe\">\n",
       "  <thead>\n",
       "    <tr style=\"text-align: right;\">\n",
       "      <th></th>\n",
       "      <th>Unnamed: 0</th>\n",
       "      <th>hash_v</th>\n",
       "      <th>yt_url</th>\n",
       "      <th>yt_title</th>\n",
       "      <th>play_cnt</th>\n",
       "      <th>song_len</th>\n",
       "    </tr>\n",
       "  </thead>\n",
       "  <tbody>\n",
       "    <tr>\n",
       "      <th>0</th>\n",
       "      <td>0</td>\n",
       "      <td>0f6c4f8b5a44</td>\n",
       "      <td>https://www.youtube.com/watch?v=j1uXcHwLhHM</td>\n",
       "      <td>Event Horizon (사건의 지평선)</td>\n",
       "      <td>0</td>\n",
       "      <td>5:01</td>\n",
       "    </tr>\n",
       "  </tbody>\n",
       "</table>\n",
       "</div>"
      ],
      "text/plain": [
       "   Unnamed: 0        hash_v                                       yt_url  \\\n",
       "0           0  0f6c4f8b5a44  https://www.youtube.com/watch?v=j1uXcHwLhHM   \n",
       "\n",
       "                  yt_title  play_cnt song_len  \n",
       "0  Event Horizon (사건의 지평선)         0     5:01  "
      ]
     },
     "execution_count": 29,
     "metadata": {},
     "output_type": "execute_result"
    }
   ],
   "source": [
    "song_list"
   ]
  },
  {
   "cell_type": "code",
   "execution_count": 30,
   "metadata": {},
   "outputs": [
    {
     "data": {
      "text/plain": [
       "False"
      ]
     },
     "execution_count": 30,
     "metadata": {},
     "output_type": "execute_result"
    }
   ],
   "source": [
    "url in list(song_list[\"yt_url\"])"
   ]
  },
  {
   "cell_type": "code",
   "execution_count": 36,
   "metadata": {},
   "outputs": [],
   "source": [
    "condition = song_list['yt_url'] == 'https://www.youtube.com/watch?v=j1uXcHwLhHM'\n",
    "song_list[condition]['play_cnt'] = 100"
   ]
  },
  {
   "cell_type": "code",
   "execution_count": 56,
   "metadata": {},
   "outputs": [],
   "source": [
    "song_list.loc[song_list[condition].index, 'play_cnt'] = 50"
   ]
  },
  {
   "cell_type": "code",
   "execution_count": 57,
   "metadata": {},
   "outputs": [
    {
     "data": {
      "text/html": [
       "<div>\n",
       "<style scoped>\n",
       "    .dataframe tbody tr th:only-of-type {\n",
       "        vertical-align: middle;\n",
       "    }\n",
       "\n",
       "    .dataframe tbody tr th {\n",
       "        vertical-align: top;\n",
       "    }\n",
       "\n",
       "    .dataframe thead th {\n",
       "        text-align: right;\n",
       "    }\n",
       "</style>\n",
       "<table border=\"1\" class=\"dataframe\">\n",
       "  <thead>\n",
       "    <tr style=\"text-align: right;\">\n",
       "      <th></th>\n",
       "      <th>Unnamed: 0</th>\n",
       "      <th>hash_v</th>\n",
       "      <th>yt_url</th>\n",
       "      <th>yt_title</th>\n",
       "      <th>play_cnt</th>\n",
       "      <th>song_len</th>\n",
       "    </tr>\n",
       "  </thead>\n",
       "  <tbody>\n",
       "    <tr>\n",
       "      <th>0</th>\n",
       "      <td>0</td>\n",
       "      <td>0f6c4f8b5a44</td>\n",
       "      <td>https://www.youtube.com/watch?v=j1uXcHwLhHM</td>\n",
       "      <td>Event Horizon (사건의 지평선)</td>\n",
       "      <td>50</td>\n",
       "      <td>5:01</td>\n",
       "    </tr>\n",
       "  </tbody>\n",
       "</table>\n",
       "</div>"
      ],
      "text/plain": [
       "   Unnamed: 0        hash_v                                       yt_url  \\\n",
       "0           0  0f6c4f8b5a44  https://www.youtube.com/watch?v=j1uXcHwLhHM   \n",
       "\n",
       "                  yt_title  play_cnt song_len  \n",
       "0  Event Horizon (사건의 지평선)        50     5:01  "
      ]
     },
     "execution_count": 57,
     "metadata": {},
     "output_type": "execute_result"
    }
   ],
   "source": [
    "song_list"
   ]
  },
  {
   "cell_type": "code",
   "execution_count": 66,
   "metadata": {},
   "outputs": [],
   "source": [
    "song_list = ['abcd', 'efge']"
   ]
  },
  {
   "cell_type": "code",
   "execution_count": 67,
   "metadata": {},
   "outputs": [],
   "source": [
    "here = song_list.pop(0)"
   ]
  },
  {
   "cell_type": "code",
   "execution_count": 65,
   "metadata": {},
   "outputs": [
    {
     "data": {
      "text/plain": [
       "['efge']"
      ]
     },
     "execution_count": 65,
     "metadata": {},
     "output_type": "execute_result"
    }
   ],
   "source": [
    "song_list"
   ]
  },
  {
   "cell_type": "code",
   "execution_count": 68,
   "metadata": {},
   "outputs": [
    {
     "data": {
      "text/plain": [
       "'abcd'"
      ]
     },
     "execution_count": 68,
     "metadata": {},
     "output_type": "execute_result"
    }
   ],
   "source": [
    "here"
   ]
  },
  {
   "cell_type": "code",
   "execution_count": 1,
   "metadata": {},
   "outputs": [],
   "source": [
    "from discord import VoiceClient"
   ]
  },
  {
   "cell_type": "code",
   "execution_count": 6,
   "metadata": {},
   "outputs": [
    {
     "name": "stderr",
     "output_type": "stream",
     "text": [
      "Exception ignored in: <function AudioSource.__del__ at 0x000002885AAC7310>\n",
      "Traceback (most recent call last):\n",
      "  File \"c:\\Users\\bamto\\anaconda3\\envs\\chom_bot\\lib\\site-packages\\discord\\player.py\", line 117, in __del__\n",
      "    self.cleanup()\n",
      "  File \"c:\\Users\\bamto\\anaconda3\\envs\\chom_bot\\lib\\site-packages\\discord\\player.py\", line 225, in cleanup\n",
      "    self._kill_process()\n",
      "  File \"c:\\Users\\bamto\\anaconda3\\envs\\chom_bot\\lib\\site-packages\\discord\\player.py\", line 190, in _kill_process\n",
      "    proc = self._process\n",
      "AttributeError: 'FFmpegPCMAudio' object has no attribute '_process'\n"
     ]
    },
    {
     "ename": "TypeError",
     "evalue": "__init__() got an unexpected keyword argument 'bitrate'",
     "output_type": "error",
     "traceback": [
      "\u001b[1;31m---------------------------------------------------------------------------\u001b[0m",
      "\u001b[1;31mTypeError\u001b[0m                                 Traceback (most recent call last)",
      "Cell \u001b[1;32mIn[6], line 2\u001b[0m\n\u001b[0;32m      1\u001b[0m f_loc \u001b[39m=\u001b[39m \u001b[39m\"\u001b[39m\u001b[39m../resouces/too_young_another.mp3\u001b[39m\u001b[39m\"\u001b[39m\n\u001b[1;32m----> 2\u001b[0m source \u001b[39m=\u001b[39m FFmpegPCMAudio(f_loc, bitrate\u001b[39m=\u001b[39;49m\u001b[39m128\u001b[39;49m)\n",
      "\u001b[1;31mTypeError\u001b[0m: __init__() got an unexpected keyword argument 'bitrate'"
     ]
    }
   ],
   "source": []
  },
  {
   "cell_type": "code",
   "execution_count": 5,
   "metadata": {},
   "outputs": [
    {
     "ename": "AttributeError",
     "evalue": "'FFmpegPCMAudio' object has no attribute 'bitrate'",
     "output_type": "error",
     "traceback": [
      "\u001b[1;31m---------------------------------------------------------------------------\u001b[0m",
      "\u001b[1;31mAttributeError\u001b[0m                            Traceback (most recent call last)",
      "Cell \u001b[1;32mIn[5], line 1\u001b[0m\n\u001b[1;32m----> 1\u001b[0m source\u001b[39m.\u001b[39;49mbitrate\n",
      "\u001b[1;31mAttributeError\u001b[0m: 'FFmpegPCMAudio' object has no attribute 'bitrate'"
     ]
    }
   ],
   "source": [
    "source.bitrate"
   ]
  },
  {
   "cell_type": "code",
   "execution_count": null,
   "metadata": {},
   "outputs": [],
   "source": []
  }
 ],
 "metadata": {
  "kernelspec": {
   "display_name": "chom_bot",
   "language": "python",
   "name": "python3"
  },
  "language_info": {
   "codemirror_mode": {
    "name": "ipython",
    "version": 3
   },
   "file_extension": ".py",
   "mimetype": "text/x-python",
   "name": "python",
   "nbconvert_exporter": "python",
   "pygments_lexer": "ipython3",
   "version": "3.9.15"
  },
  "orig_nbformat": 4,
  "vscode": {
   "interpreter": {
    "hash": "5fe0304e84566612ac90c2f62689a993c65532a9a3b8d7a498be520f80835bdf"
   }
  }
 },
 "nbformat": 4,
 "nbformat_minor": 2
}
